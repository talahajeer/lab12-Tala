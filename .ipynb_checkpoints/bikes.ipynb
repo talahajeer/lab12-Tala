{
 "metadata": {
  "language_info": {
   "codemirror_mode": {
    "name": "ipython",
    "version": 3
   },
   "file_extension": ".py",
   "mimetype": "text/x-python",
   "name": "python",
   "nbconvert_exporter": "python",
   "pygments_lexer": "ipython3",
   "version": "3.9.4"
  },
  "orig_nbformat": 2,
  "kernelspec": {
   "name": "pythonjvsc74a57bd04c01a59ce598666943789b19af06022524f7a23a7f6893a9ac5494feef95239d",
   "display_name": "Python 3.9.4  ('.venv': venv)"
  },
  "metadata": {
   "interpreter": {
    "hash": "4c01a59ce598666943789b19af06022524f7a23a7f6893a9ac5494feef95239d"
   }
  }
 },
 "nbformat": 4,
 "nbformat_minor": 2,
 "cells": [
  {
   "cell_type": "code",
   "execution_count": 1,
   "metadata": {},
   "outputs": [],
   "source": [
    "\n",
    "import pandas as pd\n",
    "import datetime as datetime"
   ]
  },
  {
   "cell_type": "code",
   "execution_count": 2,
   "metadata": {},
   "outputs": [
    {
     "output_type": "stream",
     "name": "stderr",
     "text": [
      "b'Skipping line 50794: expected 12 fields, saw 20\\n'\n",
      "<class 'pandas.core.frame.DataFrame'>\n",
      "RangeIndex: 286857 entries, 0 to 286856\n",
      "Data columns (total 12 columns):\n",
      " #   Column             Non-Null Count   Dtype  \n",
      "---  ------             --------------   -----  \n",
      " 0   trip_id            286857 non-null  int64  \n",
      " 1   starttime          286857 non-null  object \n",
      " 2   stoptime           286857 non-null  object \n",
      " 3   bikeid             286857 non-null  object \n",
      " 4   tripduration       286857 non-null  float64\n",
      " 5   from_station_name  286857 non-null  object \n",
      " 6   to_station_name    286857 non-null  object \n",
      " 7   from_station_id    286857 non-null  object \n",
      " 8   to_station_id      286857 non-null  object \n",
      " 9   usertype           286857 non-null  object \n",
      " 10  gender             181557 non-null  object \n",
      " 11  birthyear          181553 non-null  float64\n",
      "dtypes: float64(2), int64(1), object(9)\n",
      "memory usage: 26.3+ MB\n"
     ]
    }
   ],
   "source": [
    "df_trip=pd.read_csv('./trip.csv',error_bad_lines=False)\n",
    "df_trip.info()"
   ]
  },
  {
   "cell_type": "code",
   "execution_count": 3,
   "metadata": {},
   "outputs": [
    {
     "output_type": "execute_result",
     "data": {
      "text/plain": [
       "1178.2956753399776"
      ]
     },
     "metadata": {},
     "execution_count": 3
    }
   ],
   "source": [
    "\n",
    "avg_trip=df_trip[\"tripduration\"].mean()\n",
    "avg_trip"
   ]
  },
  {
   "cell_type": "code",
   "execution_count": 4,
   "metadata": {},
   "outputs": [
    {
     "output_type": "execute_result",
     "data": {
      "text/plain": [
       "34"
      ]
     },
     "metadata": {},
     "execution_count": 4
    }
   ],
   "source": [
    "\n",
    "# common_age=df_trip[\"birthyear\"].mode()\n",
    "common_age=df_trip[\"birthyear\"].value_counts().idxmax()\n",
    "\n",
    "mode_age = datetime.datetime.now().year-int(common_age)\n",
    "mode_age"
   ]
  },
  {
   "cell_type": "code",
   "execution_count": 5,
   "metadata": {},
   "outputs": [
    {
     "output_type": "stream",
     "name": "stdout",
     "text": [
      "<class 'pandas.core.frame.DataFrame'>\nRangeIndex: 689 entries, 0 to 688\nData columns (total 21 columns):\n #   Column                      Non-Null Count  Dtype         \n---  ------                      --------------  -----         \n 0   Date                        689 non-null    datetime64[ns]\n 1   Max_Temperature_F           689 non-null    int64         \n 2   Mean_Temperature_F          688 non-null    float64       \n 3   Min_TemperatureF            689 non-null    int64         \n 4   Max_Dew_Point_F             689 non-null    int64         \n 5   MeanDew_Point_F             689 non-null    int64         \n 6   Min_Dewpoint_F              689 non-null    int64         \n 7   Max_Humidity                689 non-null    int64         \n 8   Mean_Humidity               689 non-null    int64         \n 9   Min_Humidity                689 non-null    int64         \n 10  Max_Sea_Level_Pressure_In   689 non-null    float64       \n 11  Mean_Sea_Level_Pressure_In  689 non-null    float64       \n 12  Min_Sea_Level_Pressure_In   689 non-null    float64       \n 13  Max_Visibility_Miles        689 non-null    int64         \n 14  Mean_Visibility_Miles       689 non-null    int64         \n 15  Min_Visibility_Miles        689 non-null    int64         \n 16  Max_Wind_Speed_MPH          689 non-null    int64         \n 17  Mean_Wind_Speed_MPH         689 non-null    int64         \n 18  Max_Gust_Speed_MPH          504 non-null    object        \n 19  Precipitation_In            689 non-null    float64       \n 20  Events                      328 non-null    object        \ndtypes: datetime64[ns](1), float64(5), int64(13), object(2)\nmemory usage: 113.2+ KB\n"
     ]
    }
   ],
   "source": [
    "\n",
    "weather_data=pd.read_csv('./weather.csv',parse_dates=[\"Date\"])\n",
    "weather_data.info()"
   ]
  },
  {
   "cell_type": "code",
   "execution_count": 6,
   "metadata": {},
   "outputs": [
    {
     "output_type": "execute_result",
     "data": {
      "text/plain": [
       "0      10\n",
       "1      10\n",
       "2      10\n",
       "3      10\n",
       "4      10\n",
       "       ..\n",
       "684     8\n",
       "685     8\n",
       "686     8\n",
       "687     8\n",
       "688     8\n",
       "Name: month, Length: 689, dtype: int64"
      ]
     },
     "metadata": {},
     "execution_count": 6
    }
   ],
   "source": [
    "\n",
    "# from datetime import datetime\n",
    "date=weather_data[\"Date\"]\n",
    "weather_data['month'] = pd.DatetimeIndex(date).month\n",
    "weather_data['month']\n"
   ]
  },
  {
   "cell_type": "code",
   "execution_count": 7,
   "metadata": {},
   "outputs": [],
   "source": [
    "# find the average precipitation per month\n",
    "weather=weather_data.groupby('month')['Precipitation_In']\n",
    "weather_avg=weather.mean()\n"
   ]
  },
  {
   "cell_type": "code",
   "execution_count": 8,
   "metadata": {},
   "outputs": [
    {
     "output_type": "execute_result",
     "data": {
      "text/plain": [
       "17.586206896551722"
      ]
     },
     "metadata": {},
     "execution_count": 8
    }
   ],
   "source": [
    "# What’s the average number of bikes at a given bike station?\n",
    "df_station=pd.read_csv('./station.csv')\n",
    "median_pr=df_station[\"install_dockcount\"].mean()\n",
    "median_pr"
   ]
  },
  {
   "cell_type": "code",
   "execution_count": 9,
   "metadata": {},
   "outputs": [
    {
     "output_type": "execute_result",
     "data": {
      "text/plain": [
       "-722"
      ]
     },
     "metadata": {},
     "execution_count": 9
    }
   ],
   "source": [
    "x=df_station[[\"modification_date\",\"install_dockcount\"]].dropna()\n",
    "y=x[\"install_dockcount\"].sum()- df_station[\"install_dockcount\"].sum()\n",
    "y\n",
    "# it gonna lose bikes , they deminish into 4 only"
   ]
  },
  {
   "cell_type": "code",
   "execution_count": 10,
   "metadata": {},
   "outputs": [
    {
     "output_type": "execute_result",
     "data": {
      "text/plain": [
       "gender\n",
       "Female    706.723239\n",
       "Male      564.880833\n",
       "Other     613.347563\n",
       "Name: tripduration, dtype: float64"
      ]
     },
     "metadata": {},
     "execution_count": 10
    }
   ],
   "source": [
    "# df=pd.read_csv('./trip.csv',error_bad_lines=False)\n",
    "\n",
    "df_trip1=df_trip[[\"tripduration\",\"gender\"]].dropna()\n",
    "fff= df_trip1.groupby(\"gender\")['tripduration'].mean()\n",
    "fff\n"
   ]
  },
  {
   "cell_type": "code",
   "execution_count": 11,
   "metadata": {},
   "outputs": [
    {
     "output_type": "execute_result",
     "data": {
      "text/plain": [
       "Year\n",
       "2014    73\n",
       "2015    98\n",
       "2016    95\n",
       "Name: Max_Temperature_F, dtype: int64"
      ]
     },
     "metadata": {},
     "execution_count": 11
    }
   ],
   "source": [
    "# weather_data=pd.read_csv('./weather.csv',parse_dates=[\"Date\"])\n",
    "weather_data['Year'] = pd.DatetimeIndex(date).year\n",
    "weather_data.groupby(\"Year\")[\"Max_Temperature_F\"].max()\n",
    "Max_temp=weather_data.groupby(\"Year\")[\"Max_Temperature_F\"].max()\n",
    "Max_temp"
   ]
  },
  {
   "cell_type": "code",
   "execution_count": 12,
   "metadata": {},
   "outputs": [
    {
     "output_type": "execute_result",
     "data": {
      "text/plain": [
       "birthyear  gender\n",
       "1931.0     Female    1817.524\n",
       "1936.0     Male      1530.681\n",
       "1939.0     Male      6482.742\n",
       "1942.0     Male       622.731\n",
       "1943.0     Male      1686.795\n",
       "                       ...   \n",
       "1997.0     Male      4170.919\n",
       "1998.0     Female    2251.862\n",
       "           Male      4745.422\n",
       "1999.0     Female    1537.079\n",
       "           Other      655.493\n",
       "Name: tripduration, Length: 135, dtype: float64"
      ]
     },
     "metadata": {},
     "execution_count": 12
    }
   ],
   "source": [
    "# df=pd.read_csv('./trip.csv',error_bad_lines=False)\n",
    "# df\n",
    "df_trip2=df_trip[[\"tripduration\",\"birthyear\",\"gender\"]].dropna()\n",
    "highest_d=df_trip2.groupby([\"birthyear\",\"gender\"])['tripduration'].max()\n",
    "highest_d\n"
   ]
  },
  {
   "cell_type": "code",
   "execution_count": 13,
   "metadata": {},
   "outputs": [
    {
     "output_type": "stream",
     "name": "stdout",
     "text": [
      "Success!!!\n"
     ]
    }
   ],
   "source": [
    "\n",
    "def test():\n",
    "\n",
    "    def assert_equal(actual,expected):\n",
    "        assert actual == expected, f\"Expected {expected} but got {actual}\"\n",
    "\n",
    "    assert_equal(avg_trip, 1178.2956753399776)\n",
    "    assert_equal(y, -722)\n",
    "    assert_equal(median_pr, 17.586206896551722)\n",
    "    assert_equal(weather_data.iloc[9].month, 10)\n",
    "    assert_equal(fff['Female'], 706.7232394441183)\n",
    "    assert_equal(weather_avg[9], 0.04100000000000001)\n",
    "    assert_equal(mode_age, 34)\n",
    "\n",
    "    print(\"Success!!!\")\n",
    "\n",
    "test()"
   ]
  },
  {
   "cell_type": "code",
   "execution_count": null,
   "metadata": {},
   "outputs": [],
   "source": []
  }
 ]
}